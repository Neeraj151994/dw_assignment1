{
 "cells": [
  {
   "cell_type": "markdown",
   "id": "d268d86d",
   "metadata": {},
   "source": [
    "## Q-1.  Create a null vector of size 10 but the fifth value which is 1."
   ]
  },
  {
   "cell_type": "code",
   "execution_count": 6,
   "id": "33832b5a",
   "metadata": {},
   "outputs": [
    {
     "name": "stdout",
     "output_type": "stream",
     "text": [
      "5th value of null vector size 10 is 1== [0. 0. 0. 0. 1. 0. 0. 0. 0. 0.]\n"
     ]
    }
   ],
   "source": [
    "import numpy as np\n",
    "a=np.zeros(10)\n",
    "a\n",
    "a[4]=1\n",
    "print(\"5th value of null vector size 10 is 1==\",a)"
   ]
  },
  {
   "cell_type": "markdown",
   "id": "67a98cb8",
   "metadata": {},
   "source": [
    "## Q-2. Create a vector with values ranging from 10 to 49."
   ]
  },
  {
   "cell_type": "code",
   "execution_count": 7,
   "id": "91ab3b35",
   "metadata": {},
   "outputs": [
    {
     "data": {
      "text/plain": [
       "array([10, 11, 12, 13, 14, 15, 16, 17, 18, 19, 20, 21, 22, 23, 24, 25, 26,\n",
       "       27, 28, 29, 30, 31, 32, 33, 34, 35, 36, 37, 38, 39, 40, 41, 42, 43,\n",
       "       44, 45, 46, 47, 48, 49])"
      ]
     },
     "execution_count": 7,
     "metadata": {},
     "output_type": "execute_result"
    }
   ],
   "source": [
    "r=np.arange(10,50)\n",
    "r"
   ]
  },
  {
   "cell_type": "markdown",
   "id": "a306d937",
   "metadata": {},
   "source": [
    "## Q-3. Create a 3x3 matrix with values ranging from 0 to 8"
   ]
  },
  {
   "cell_type": "code",
   "execution_count": 8,
   "id": "4859ec06",
   "metadata": {},
   "outputs": [
    {
     "data": {
      "text/plain": [
       "array([[0, 1, 2],\n",
       "       [3, 4, 5],\n",
       "       [6, 7, 8]])"
      ]
     },
     "execution_count": 8,
     "metadata": {},
     "output_type": "execute_result"
    }
   ],
   "source": [
    "n=np.arange(9).reshape(3,3)\n",
    "n"
   ]
  },
  {
   "cell_type": "markdown",
   "id": "0c5f4f38",
   "metadata": {},
   "source": [
    "## Q-4.  Find indices of non-zero elements from [1,2,0,0,4,0]"
   ]
  },
  {
   "cell_type": "code",
   "execution_count": 11,
   "id": "848286f5",
   "metadata": {},
   "outputs": [
    {
     "data": {
      "text/plain": [
       "(array([0, 1, 4], dtype=int64),)"
      ]
     },
     "execution_count": 11,
     "metadata": {},
     "output_type": "execute_result"
    }
   ],
   "source": [
    "a=np.array([1,2,0,0,4,0])\n",
    "np.where(a > 0)\n"
   ]
  },
  {
   "cell_type": "markdown",
   "id": "d9eaada3",
   "metadata": {},
   "source": [
    "## Q-5. Create a 10x10 array with random values and find the minimum and maximum values."
   ]
  },
  {
   "cell_type": "code",
   "execution_count": 22,
   "id": "26ab2f71",
   "metadata": {},
   "outputs": [
    {
     "name": "stdout",
     "output_type": "stream",
     "text": [
      "[[0.92850196 0.0310349  0.3159902  0.92132134 0.47090494 0.72126614\n",
      "  0.34995859 0.91579814 0.40697306 0.94456183]\n",
      " [0.94644591 0.44893111 0.55047303 0.34794087 0.38817667 0.60407856\n",
      "  0.44711289 0.51875511 0.31948511 0.45206875]\n",
      " [0.54649422 0.77050387 0.94840304 0.2788373  0.15493224 0.58895372\n",
      "  0.10009113 0.6199083  0.87488825 0.82622315]\n",
      " [0.75769069 0.53318665 0.88334315 0.58520105 0.87258307 0.28972236\n",
      "  0.7965982  0.41238632 0.17310322 0.97042438]\n",
      " [0.11238704 0.32862807 0.53382953 0.67313934 0.6711917  0.86341949\n",
      "  0.37969746 0.19308989 0.55942539 0.18916415]\n",
      " [0.13996999 0.53592288 0.93877125 0.82774767 0.55827279 0.83026243\n",
      "  0.71338203 0.45562605 0.88290699 0.85725345]\n",
      " [0.88789239 0.79628305 0.76558857 0.31257514 0.92862135 0.67605322\n",
      "  0.98453973 0.9873848  0.27347115 0.86635442]\n",
      " [0.89648294 0.86044335 0.32335181 0.9315581  0.15565518 0.42863105\n",
      "  0.90142446 0.51963037 0.01052614 0.32572529]\n",
      " [0.18592584 0.03071156 0.47729225 0.42687845 0.40241396 0.4715403\n",
      "  0.07874952 0.68911037 0.46375566 0.44956327]\n",
      " [0.68967923 0.12522887 0.7296011  0.61518206 0.88691522 0.44051664\n",
      "  0.8892184  0.38259493 0.76365432 0.31810916]]\n"
     ]
    }
   ],
   "source": [
    "a=np.random.random((10,10))\n",
    "print(a)\n"
   ]
  },
  {
   "cell_type": "code",
   "execution_count": 23,
   "id": "50790579",
   "metadata": {},
   "outputs": [
    {
     "name": "stdout",
     "output_type": "stream",
     "text": [
      "minimum element of an array -  0.010526144501538326\n"
     ]
    }
   ],
   "source": [
    "b=a.min()\n",
    "print(\"minimum element of an array - \",b)"
   ]
  },
  {
   "cell_type": "code",
   "execution_count": 24,
   "id": "f4e2a97f",
   "metadata": {},
   "outputs": [
    {
     "name": "stdout",
     "output_type": "stream",
     "text": [
      "maximum element of an array- 0.9873848017361962\n"
     ]
    }
   ],
   "source": [
    "b=a.max()\n",
    "print('maximum element of an array-',b)"
   ]
  },
  {
   "cell_type": "markdown",
   "id": "55feb6d8",
   "metadata": {},
   "source": [
    "## Q-6. Create a random vector of size 30 and find the mean value."
   ]
  },
  {
   "cell_type": "code",
   "execution_count": 26,
   "id": "113e47f9",
   "metadata": {},
   "outputs": [
    {
     "data": {
      "text/plain": [
       "array([0.70673107, 0.07103643, 0.5919628 , 0.16594551, 0.49269049,\n",
       "       0.61367688, 0.57965965, 0.8209523 , 0.06009547, 0.97931796,\n",
       "       0.54648813, 0.44210749, 0.87502695, 0.11398985, 0.21334564,\n",
       "       0.52018453, 0.45116931, 0.24734348, 0.22897398, 0.18489882,\n",
       "       0.30401668, 0.86036483, 0.71879905, 0.52810448, 0.09489807,\n",
       "       0.74358013, 0.89352758, 0.75329728, 0.88600578, 0.02805934])"
      ]
     },
     "execution_count": 26,
     "metadata": {},
     "output_type": "execute_result"
    }
   ],
   "source": [
    "a=np.random.random((30))\n",
    "a"
   ]
  },
  {
   "cell_type": "code",
   "execution_count": 33,
   "id": "7d45f9be",
   "metadata": {},
   "outputs": [
    {
     "name": "stdout",
     "output_type": "stream",
     "text": [
      "mean value of a - 0.49054166562225626\n"
     ]
    }
   ],
   "source": [
    "b=a.mean()\n",
    "print(\"mean value of a -\",b)"
   ]
  },
  {
   "cell_type": "code",
   "execution_count": null,
   "id": "0fbbd005",
   "metadata": {},
   "outputs": [],
   "source": []
  }
 ],
 "metadata": {
  "kernelspec": {
   "display_name": "Python 3 (ipykernel)",
   "language": "python",
   "name": "python3"
  },
  "language_info": {
   "codemirror_mode": {
    "name": "ipython",
    "version": 3
   },
   "file_extension": ".py",
   "mimetype": "text/x-python",
   "name": "python",
   "nbconvert_exporter": "python",
   "pygments_lexer": "ipython3",
   "version": "3.10.4"
  }
 },
 "nbformat": 4,
 "nbformat_minor": 5
}
